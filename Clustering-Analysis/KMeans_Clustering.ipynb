{
 "cells": [
  {
   "cell_type": "markdown",
   "id": "1b99608e",
   "metadata": {},
   "source": [
    "Problem set : \n",
    "The data set used is the wholesale customers data ,i.e the dataset for a client for a wholesale distribution. In this dataset we have annual spending in monetary units for diverse product categories.\n",
    "#each row has one retailer buying different products.\n",
    "\n",
    "Following are the problem statements the customer wants to solve using this dataset.\n",
    "\n",
    "🧠 1. Targeted Marketing Campaigns\n",
    "    Problem:\n",
    "        The wholesaler wants to improve the ROI of their marketing by sending custom promotions to customer groups based on their purchasing behavior.\n",
    "\n",
    "        Solution Using Clustering:\n",
    "\n",
    "        Segment customers using K-Means based on spending across product categories.\n",
    "        Profile each cluster (e.g., heavy dairy buyers, low frozen buyers, balanced buyers).\n",
    "        Design cluster-specific promotions (e.g., offer frozen discounts to dairy-heavy clusters).\n",
    "\n",
    "    Business Impact:\n",
    "        Increase campaign relevance, reduce marketing waste, and boost cross-category sales.\n",
    "\n",
    "📦 2. Product Bundling & Inventory Planning\n",
    "    Problem:\n",
    "        The wholesaler is unsure which products are typically bought together and wants to offer bundles or adjust inventory accordingly.\n",
    "\n",
    "        Solution Using Clustering:\n",
    "\n",
    "        Use clustering to find purchase pattern groups (e.g., customers who buy Milk + Grocery + Detergents).\n",
    "        Identify top-selling categories per cluster and create targeted product bundles.\n",
    "        Align inventory stocking based on cluster demand.\n",
    "\n",
    "    Business Impact:\n",
    "        Increase average order value and reduce overstock/understock issues.\n",
    "\n",
    "🧭 3. Regional Demand Optimization\n",
    "    Problem:\n",
    "        Sales vary across regions and customer types (Channel, Region). The wholesaler wants to understand how different segments behave geographically.\n",
    "\n",
    "        Solution Using Clustering:\n",
    "\n",
    "        Segment customers by spending.\n",
    "        Overlay clusters with Channel and Region to find geographic and channel-level trends.\n",
    "        Customize logistics, regional offers, and salesforce efforts accordingly.\n",
    "\n",
    "    Business Impact:\n",
    "        Streamlined regional operations and improved service-level efficiency.\n",
    "\n",
    "\n"
   ]
  },
  {
   "cell_type": "markdown",
   "id": "452d05d4",
   "metadata": {},
   "source": [
    "| **Column**            | **Type**              | **Description**                                                                                 |\n",
    "| --------------------- | --------------------- | ----------------------------------------------------------------------------------------------- |\n",
    "| **Channel**           | Categorical (1 or 2)  | Type of customer:<br>• `1` = Horeca (Hotel/Restaurant/Cafe)<br>• `2` = Retail                   |\n",
    "| **Region**            | Categorical (1, 2, 3) | Geographical location:<br>• `1` = Lisbon<br>• `2` = Oporto<br>• `3` = Other regions in Portugal |\n",
    "| **Fresh**             | Numerical             | Annual spending on fresh products (vegetables, fruits, meat, etc.)                              |\n",
    "| **Milk**              | Numerical             | Annual spending on milk and dairy products                                                      |\n",
    "| **Grocery**           | Numerical             | Annual spending on grocery items (e.g., packaged food, grains)                                  |\n",
    "| **Frozen**            | Numerical             | Annual spending on frozen products                                                              |\n",
    "| **Detergents\\_Paper** | Numerical             | Annual spending on cleaning products (e.g., detergents, paper goods)                            |\n",
    "| **Delicassen**        | Numerical             | Annual spending on delicatessen (gourmet or specialty) items                                    |\n"
   ]
  },
  {
   "cell_type": "markdown",
   "id": "514f860d",
   "metadata": {},
   "source": [
    "### 📦 Step 1: Import Required Libraries\n",
    "These libraries support data manipulation (`pandas`, `numpy`), visualization (`matplotlib`, `seaborn`), and clustering (`KMeans`, `PCA`, etc.)."
   ]
  },
  {
   "cell_type": "code",
   "execution_count": 1,
   "id": "c834c0bd",
   "metadata": {},
   "outputs": [],
   "source": [
    "#Loading Necessary Libraries\n",
    "import numpy as np                # Numerical operations\n",
    "import pandas as pd               # Data handling\n",
    "import matplotlib.pyplot as plt   # Basic plotting\n",
    "import seaborn as sns             # Statistical plots\n",
    "from sklearn.model_selection import train_test_split\n",
    "from sklearn.preprocessing import StandardScaler\n",
    "from sklearn.cluster import KMeans\n",
    "from sklearn.metrics import silhouette_score\n",
    "from sklearn.decomposition import PCA\n"
   ]
  },
  {
   "cell_type": "markdown",
   "id": "699cabc5",
   "metadata": {},
   "source": [
    "### 📂 Step 2: Load the Dataset\n",
    "We are reading the customer dataset which contains annual spending in various product categories."
   ]
  },
  {
   "cell_type": "code",
   "execution_count": 2,
   "id": "2e8f3aa3",
   "metadata": {},
   "outputs": [],
   "source": [
    "# Read a CSV file into a DataFrame\n",
    "data = pd.read_csv('customers.csv')"
   ]
  },
  {
   "cell_type": "markdown",
   "id": "c4b73f38",
   "metadata": {},
   "source": [
    "### 👀 Step 3: Preview the Dataset\n",
    "Let’s take a quick look at the top rows to understand its structure."
   ]
  },
  {
   "cell_type": "code",
   "execution_count": 3,
   "id": "7ebefb2a",
   "metadata": {},
   "outputs": [
    {
     "data": {
      "application/vnd.microsoft.datawrangler.viewer.v0+json": {
       "columns": [
        {
         "name": "index",
         "rawType": "int64",
         "type": "integer"
        },
        {
         "name": "Channel",
         "rawType": "int64",
         "type": "integer"
        },
        {
         "name": "Region",
         "rawType": "int64",
         "type": "integer"
        },
        {
         "name": "Fresh",
         "rawType": "int64",
         "type": "integer"
        },
        {
         "name": "Milk",
         "rawType": "int64",
         "type": "integer"
        },
        {
         "name": "Grocery",
         "rawType": "int64",
         "type": "integer"
        },
        {
         "name": "Frozen",
         "rawType": "int64",
         "type": "integer"
        },
        {
         "name": "Detergents_Paper",
         "rawType": "int64",
         "type": "integer"
        },
        {
         "name": "Delicassen",
         "rawType": "int64",
         "type": "integer"
        }
       ],
       "ref": "81f7ac65-eddf-4795-91fb-5c8526660799",
       "rows": [
        [
         "0",
         "2",
         "3",
         "12669",
         "9656",
         "7561",
         "214",
         "2674",
         "1338"
        ],
        [
         "1",
         "2",
         "3",
         "7057",
         "9810",
         "9568",
         "1762",
         "3293",
         "1776"
        ],
        [
         "2",
         "2",
         "3",
         "6353",
         "8808",
         "7684",
         "2405",
         "3516",
         "7844"
        ],
        [
         "3",
         "1",
         "3",
         "13265",
         "1196",
         "4221",
         "6404",
         "507",
         "1788"
        ],
        [
         "4",
         "2",
         "3",
         "22615",
         "5410",
         "7198",
         "3915",
         "1777",
         "5185"
        ],
        [
         "5",
         "2",
         "3",
         "9413",
         "8259",
         "5126",
         "666",
         "1795",
         "1451"
        ],
        [
         "6",
         "2",
         "3",
         "12126",
         "3199",
         "6975",
         "480",
         "3140",
         "545"
        ],
        [
         "7",
         "2",
         "3",
         "7579",
         "4956",
         "9426",
         "1669",
         "3321",
         "2566"
        ],
        [
         "8",
         "1",
         "3",
         "5963",
         "3648",
         "6192",
         "425",
         "1716",
         "750"
        ],
        [
         "9",
         "2",
         "3",
         "6006",
         "11093",
         "18881",
         "1159",
         "7425",
         "2098"
        ],
        [
         "10",
         "2",
         "3",
         "3366",
         "5403",
         "12974",
         "4400",
         "5977",
         "1744"
        ],
        [
         "11",
         "2",
         "3",
         "13146",
         "1124",
         "4523",
         "1420",
         "549",
         "497"
        ],
        [
         "12",
         "2",
         "3",
         "31714",
         "12319",
         "11757",
         "287",
         "3881",
         "2931"
        ],
        [
         "13",
         "2",
         "3",
         "21217",
         "6208",
         "14982",
         "3095",
         "6707",
         "602"
        ],
        [
         "14",
         "2",
         "3",
         "24653",
         "9465",
         "12091",
         "294",
         "5058",
         "2168"
        ]
       ],
       "shape": {
        "columns": 8,
        "rows": 15
       }
      },
      "text/html": [
       "<div>\n",
       "<style scoped>\n",
       "    .dataframe tbody tr th:only-of-type {\n",
       "        vertical-align: middle;\n",
       "    }\n",
       "\n",
       "    .dataframe tbody tr th {\n",
       "        vertical-align: top;\n",
       "    }\n",
       "\n",
       "    .dataframe thead th {\n",
       "        text-align: right;\n",
       "    }\n",
       "</style>\n",
       "<table border=\"1\" class=\"dataframe\">\n",
       "  <thead>\n",
       "    <tr style=\"text-align: right;\">\n",
       "      <th></th>\n",
       "      <th>Channel</th>\n",
       "      <th>Region</th>\n",
       "      <th>Fresh</th>\n",
       "      <th>Milk</th>\n",
       "      <th>Grocery</th>\n",
       "      <th>Frozen</th>\n",
       "      <th>Detergents_Paper</th>\n",
       "      <th>Delicassen</th>\n",
       "    </tr>\n",
       "  </thead>\n",
       "  <tbody>\n",
       "    <tr>\n",
       "      <th>0</th>\n",
       "      <td>2</td>\n",
       "      <td>3</td>\n",
       "      <td>12669</td>\n",
       "      <td>9656</td>\n",
       "      <td>7561</td>\n",
       "      <td>214</td>\n",
       "      <td>2674</td>\n",
       "      <td>1338</td>\n",
       "    </tr>\n",
       "    <tr>\n",
       "      <th>1</th>\n",
       "      <td>2</td>\n",
       "      <td>3</td>\n",
       "      <td>7057</td>\n",
       "      <td>9810</td>\n",
       "      <td>9568</td>\n",
       "      <td>1762</td>\n",
       "      <td>3293</td>\n",
       "      <td>1776</td>\n",
       "    </tr>\n",
       "    <tr>\n",
       "      <th>2</th>\n",
       "      <td>2</td>\n",
       "      <td>3</td>\n",
       "      <td>6353</td>\n",
       "      <td>8808</td>\n",
       "      <td>7684</td>\n",
       "      <td>2405</td>\n",
       "      <td>3516</td>\n",
       "      <td>7844</td>\n",
       "    </tr>\n",
       "    <tr>\n",
       "      <th>3</th>\n",
       "      <td>1</td>\n",
       "      <td>3</td>\n",
       "      <td>13265</td>\n",
       "      <td>1196</td>\n",
       "      <td>4221</td>\n",
       "      <td>6404</td>\n",
       "      <td>507</td>\n",
       "      <td>1788</td>\n",
       "    </tr>\n",
       "    <tr>\n",
       "      <th>4</th>\n",
       "      <td>2</td>\n",
       "      <td>3</td>\n",
       "      <td>22615</td>\n",
       "      <td>5410</td>\n",
       "      <td>7198</td>\n",
       "      <td>3915</td>\n",
       "      <td>1777</td>\n",
       "      <td>5185</td>\n",
       "    </tr>\n",
       "    <tr>\n",
       "      <th>5</th>\n",
       "      <td>2</td>\n",
       "      <td>3</td>\n",
       "      <td>9413</td>\n",
       "      <td>8259</td>\n",
       "      <td>5126</td>\n",
       "      <td>666</td>\n",
       "      <td>1795</td>\n",
       "      <td>1451</td>\n",
       "    </tr>\n",
       "    <tr>\n",
       "      <th>6</th>\n",
       "      <td>2</td>\n",
       "      <td>3</td>\n",
       "      <td>12126</td>\n",
       "      <td>3199</td>\n",
       "      <td>6975</td>\n",
       "      <td>480</td>\n",
       "      <td>3140</td>\n",
       "      <td>545</td>\n",
       "    </tr>\n",
       "    <tr>\n",
       "      <th>7</th>\n",
       "      <td>2</td>\n",
       "      <td>3</td>\n",
       "      <td>7579</td>\n",
       "      <td>4956</td>\n",
       "      <td>9426</td>\n",
       "      <td>1669</td>\n",
       "      <td>3321</td>\n",
       "      <td>2566</td>\n",
       "    </tr>\n",
       "    <tr>\n",
       "      <th>8</th>\n",
       "      <td>1</td>\n",
       "      <td>3</td>\n",
       "      <td>5963</td>\n",
       "      <td>3648</td>\n",
       "      <td>6192</td>\n",
       "      <td>425</td>\n",
       "      <td>1716</td>\n",
       "      <td>750</td>\n",
       "    </tr>\n",
       "    <tr>\n",
       "      <th>9</th>\n",
       "      <td>2</td>\n",
       "      <td>3</td>\n",
       "      <td>6006</td>\n",
       "      <td>11093</td>\n",
       "      <td>18881</td>\n",
       "      <td>1159</td>\n",
       "      <td>7425</td>\n",
       "      <td>2098</td>\n",
       "    </tr>\n",
       "    <tr>\n",
       "      <th>10</th>\n",
       "      <td>2</td>\n",
       "      <td>3</td>\n",
       "      <td>3366</td>\n",
       "      <td>5403</td>\n",
       "      <td>12974</td>\n",
       "      <td>4400</td>\n",
       "      <td>5977</td>\n",
       "      <td>1744</td>\n",
       "    </tr>\n",
       "    <tr>\n",
       "      <th>11</th>\n",
       "      <td>2</td>\n",
       "      <td>3</td>\n",
       "      <td>13146</td>\n",
       "      <td>1124</td>\n",
       "      <td>4523</td>\n",
       "      <td>1420</td>\n",
       "      <td>549</td>\n",
       "      <td>497</td>\n",
       "    </tr>\n",
       "    <tr>\n",
       "      <th>12</th>\n",
       "      <td>2</td>\n",
       "      <td>3</td>\n",
       "      <td>31714</td>\n",
       "      <td>12319</td>\n",
       "      <td>11757</td>\n",
       "      <td>287</td>\n",
       "      <td>3881</td>\n",
       "      <td>2931</td>\n",
       "    </tr>\n",
       "    <tr>\n",
       "      <th>13</th>\n",
       "      <td>2</td>\n",
       "      <td>3</td>\n",
       "      <td>21217</td>\n",
       "      <td>6208</td>\n",
       "      <td>14982</td>\n",
       "      <td>3095</td>\n",
       "      <td>6707</td>\n",
       "      <td>602</td>\n",
       "    </tr>\n",
       "    <tr>\n",
       "      <th>14</th>\n",
       "      <td>2</td>\n",
       "      <td>3</td>\n",
       "      <td>24653</td>\n",
       "      <td>9465</td>\n",
       "      <td>12091</td>\n",
       "      <td>294</td>\n",
       "      <td>5058</td>\n",
       "      <td>2168</td>\n",
       "    </tr>\n",
       "  </tbody>\n",
       "</table>\n",
       "</div>"
      ],
      "text/plain": [
       "    Channel  Region  Fresh   Milk  Grocery  Frozen  Detergents_Paper  \\\n",
       "0         2       3  12669   9656     7561     214              2674   \n",
       "1         2       3   7057   9810     9568    1762              3293   \n",
       "2         2       3   6353   8808     7684    2405              3516   \n",
       "3         1       3  13265   1196     4221    6404               507   \n",
       "4         2       3  22615   5410     7198    3915              1777   \n",
       "5         2       3   9413   8259     5126     666              1795   \n",
       "6         2       3  12126   3199     6975     480              3140   \n",
       "7         2       3   7579   4956     9426    1669              3321   \n",
       "8         1       3   5963   3648     6192     425              1716   \n",
       "9         2       3   6006  11093    18881    1159              7425   \n",
       "10        2       3   3366   5403    12974    4400              5977   \n",
       "11        2       3  13146   1124     4523    1420               549   \n",
       "12        2       3  31714  12319    11757     287              3881   \n",
       "13        2       3  21217   6208    14982    3095              6707   \n",
       "14        2       3  24653   9465    12091     294              5058   \n",
       "\n",
       "    Delicassen  \n",
       "0         1338  \n",
       "1         1776  \n",
       "2         7844  \n",
       "3         1788  \n",
       "4         5185  \n",
       "5         1451  \n",
       "6          545  \n",
       "7         2566  \n",
       "8          750  \n",
       "9         2098  \n",
       "10        1744  \n",
       "11         497  \n",
       "12        2931  \n",
       "13         602  \n",
       "14        2168  "
      ]
     },
     "execution_count": 3,
     "metadata": {},
     "output_type": "execute_result"
    }
   ],
   "source": [
    "data.head(15)"
   ]
  },
  {
   "cell_type": "markdown",
   "id": "081d2cb7",
   "metadata": {},
   "source": [
    "### 🧹 Step 5: Check for Missing Values\n",
    "Verifies whether we need to perform any imputation before clustering."
   ]
  },
  {
   "cell_type": "code",
   "execution_count": 4,
   "id": "59d59ff5",
   "metadata": {},
   "outputs": [
    {
     "data": {
      "application/vnd.microsoft.datawrangler.viewer.v0+json": {
       "columns": [
        {
         "name": "index",
         "rawType": "object",
         "type": "string"
        },
        {
         "name": "0",
         "rawType": "int64",
         "type": "integer"
        }
       ],
       "ref": "b4b28f5c-8dab-40ec-8560-6481398ca90a",
       "rows": [
        [
         "Channel",
         "0"
        ],
        [
         "Region",
         "0"
        ],
        [
         "Fresh",
         "0"
        ],
        [
         "Milk",
         "0"
        ],
        [
         "Grocery",
         "0"
        ],
        [
         "Frozen",
         "0"
        ],
        [
         "Detergents_Paper",
         "0"
        ],
        [
         "Delicassen",
         "0"
        ]
       ],
       "shape": {
        "columns": 1,
        "rows": 8
       }
      },
      "text/plain": [
       "Channel             0\n",
       "Region              0\n",
       "Fresh               0\n",
       "Milk                0\n",
       "Grocery             0\n",
       "Frozen              0\n",
       "Detergents_Paper    0\n",
       "Delicassen          0\n",
       "dtype: int64"
      ]
     },
     "execution_count": 4,
     "metadata": {},
     "output_type": "execute_result"
    }
   ],
   "source": [
    "data.isnull().sum()                       # Missing values"
   ]
  },
  {
   "cell_type": "code",
   "execution_count": 5,
   "id": "20819f5f",
   "metadata": {},
   "outputs": [
    {
     "data": {
      "text/plain": [
       "np.int64(0)"
      ]
     },
     "execution_count": 5,
     "metadata": {},
     "output_type": "execute_result"
    }
   ],
   "source": [
    "\n",
    "data.duplicated().sum()                   # Duplicates"
   ]
  },
  {
   "cell_type": "markdown",
   "id": "c654ce2f",
   "metadata": {},
   "source": [
    "### ⚖️ Step 6: Scale the Data\n",
    "Standardize features to have mean = 0 and variance = 1 for better clustering performance."
   ]
  },
  {
   "cell_type": "code",
   "execution_count": 6,
   "id": "a81b2519",
   "metadata": {},
   "outputs": [],
   "source": [
    "# Drop categorical columns: 'Region', 'Channel'\n",
    "newdf = data.drop(columns=['Region', 'Channel'])\n",
    "\n",
    "#Scaling the data\n",
    "scaler = StandardScaler()\n",
    "scaled = scaler.fit_transform(newdf)\n",
    "scaled_df = pd.DataFrame(scaled, columns=newdf.columns)"
   ]
  },
  {
   "cell_type": "markdown",
   "id": "8ef01090",
   "metadata": {},
   "source": [
    "### 📉 Step 7: Elbow Method\n",
    "We run KMeans for multiple values of K and plot the inertia to identify the 'elbow point' where adding more clusters doesn't help much."
   ]
  },
  {
   "cell_type": "code",
   "execution_count": 7,
   "id": "eda1240b",
   "metadata": {},
   "outputs": [
    {
     "data": {
      "text/plain": [
       "Text(0.5, 1.0, 'Elbow Method')"
      ]
     },
     "execution_count": 7,
     "metadata": {},
     "output_type": "execute_result"
    },
    {
     "data": {
      "image/png": "[encoded data removed]",
      "text/plain": [
       "<Figure size 640x480 with 1 Axes>"
      ]
     },
     "metadata": {},
     "output_type": "display_data"
    }
   ],
   "source": [
    "#Elbow method to find K  \n",
    "\n",
    "inertias = []\n",
    "for k in range(1, 11):\n",
    "    km = KMeans(n_clusters=k)\n",
    "    km.fit(scaled_df)\n",
    "    inertias.append(km.inertia_)\n",
    "\n",
    "#plotting inertia\n",
    "\n",
    "plt.plot(range(1, 11), inertias)\n",
    "plt.xlabel('k')\n",
    "plt.ylabel('Inertia')\n",
    "plt.title('Elbow Method')\n",
    "\n"
   ]
  },
  {
   "cell_type": "markdown",
   "id": "6fc54d94",
   "metadata": {},
   "source": [
    "### 📋 Step 8: Cluster Profiling\n",
    "We analyze the average spending in each category per cluster to interpret customer segments."
   ]
  },
  {
   "cell_type": "markdown",
   "id": "2d30aaa0",
   "metadata": {},
   "source": [
    "### 📋 Step 8: Cluster Profiling\n",
    "We analyze the average spending in each category per cluster to interpret customer segments."
   ]
  },
  {
   "cell_type": "code",
   "execution_count": null,
   "id": "d5f15f3f",
   "metadata": {},
   "outputs": [
    {
     "name": "stdout",
     "output_type": "stream",
     "text": [
      "        Fresh      Milk   Grocery    Frozen  Detergents_Paper  Delicassen  \\\n",
      "0    0.052933  0.523568 -0.041115 -0.589367         -0.043569   -0.066339   \n",
      "1   -0.391302  0.544458  0.170318 -0.270136          0.086407    0.089151   \n",
      "2   -0.447029  0.408538 -0.028157 -0.137536          0.133232    2.243293   \n",
      "3    0.100111 -0.624020 -0.392977  0.687144         -0.498588    0.093411   \n",
      "4    0.840239 -0.052396 -0.079356  0.173859         -0.231918    1.299347   \n",
      "..        ...       ...       ...       ...               ...         ...   \n",
      "435  1.401312  0.848446  0.850760  2.075222         -0.566831    0.241091   \n",
      "436  2.155293 -0.592142 -0.757165  0.296561         -0.585519    0.291501   \n",
      "437  0.200326  1.314671  2.348386 -0.543380          2.511218    0.121456   \n",
      "438 -0.135384 -0.517536 -0.602514 -0.419441         -0.569770    0.213046   \n",
      "439 -0.729307 -0.555924 -0.573227 -0.620094         -0.504888   -0.522869   \n",
      "\n",
      "     cluster  \n",
      "0          0  \n",
      "1          0  \n",
      "2          0  \n",
      "3          0  \n",
      "4          3  \n",
      "..       ...  \n",
      "435        1  \n",
      "436        3  \n",
      "437        2  \n",
      "438        0  \n",
      "439        0  \n",
      "\n",
      "[440 rows x 7 columns]\n"
     ]
    }
   ],
   "source": [
    "#considering k=466 and applying K Means\n",
    "\n",
    "kmeans = KMeans(n_clusters=6, random_state=42)  # Create KMeans model with 4 clusters\n",
    "kmeans.fit(scaled_df)                           # Fit model to scaled data\n",
    "labels = kmeans.labels_                         # Get cluster assignments\n",
    "scaled_df['cluster'] = labels                   # Add cluster labels as a new column\n",
    "print(scaled_df)                                # Print DataFrame with cluster info\n"
   ]
  },
  {
   "cell_type": "markdown",
   "id": "5d44876b",
   "metadata": {},
   "source": [
    "### 📋 Step 9: Calculate the BSS/TSS Ratio\n",
    "We analyze the average spending in each category per cluster to interpret customer segments."
   ]
  },
  {
   "cell_type": "code",
   "execution_count": null,
   "id": "69a06606",
   "metadata": {},
   "outputs": [
    {
     "name": "stdout",
     "output_type": "stream",
     "text": [
      "BSS/TSS Ratio: 71.26%\n"
     ]
    }
   ],
   "source": [
    "import numpy as np\n",
    "\n",
    "# Total SS = sum of squared distances to global mean (row-wise)\n",
    "overall_mean = np.mean(scaled_df, axis=0)\n",
    "total_ss = np.sum(np.linalg.norm(scaled_df - overall_mean, axis=1) ** 2)\n",
    "\n",
    "within_ss = kmeans.inertia_\n",
    "between_ss = total_ss - within_ss\n",
    "bss_tss_ratio = (between_ss / total_ss) * 100\n",
    "\n",
    "print(f\"BSS/TSS Ratio: {bss_tss_ratio:.2f}%\")"
   ]
  },
  {
   "cell_type": "markdown",
   "id": "16f4c200",
   "metadata": {},
   "source": [
    "### 📋 Step 10: Cluster Profiling\n",
    "We analyze the average spending in each category per cluster to interpret customer segments."
   ]
  },
  {
   "cell_type": "code",
   "execution_count": null,
   "id": "73364c15",
   "metadata": {},
   "outputs": [
    {
     "name": "stdout",
     "output_type": "stream",
     "text": [
      "            Fresh      Milk   Grocery    Frozen  Detergents_Paper  Delicassen\n",
      "cluster                                                                      \n",
      "0       -0.440831 -0.338817 -0.396700 -0.179403         -0.346495   -0.191524\n",
      "1        1.956941 -0.020832 -0.150831  1.897149         -0.385936    0.743062\n",
      "2       -0.549710  0.882080  1.135926 -0.301405          1.150663    0.103246\n",
      "3        0.951472 -0.282207 -0.313771 -0.018954         -0.367346   -0.030824\n",
      "4        1.803356  3.332987  0.942519  9.409801         -0.446409    8.964157\n",
      "5        0.635718  4.379788  5.075121 -0.104629          5.199669    0.363262\n"
     ]
    }
   ],
   "source": [
    "#Profiling Clusters\n",
    "\n",
    "cluster_profiles = scaled_df.groupby('cluster').mean()\n",
    "print(cluster_profiles)"
   ]
  },
  {
   "cell_type": "markdown",
   "id": "76674591",
   "metadata": {},
   "source": [
    "### 📦 Step 11: Visualization of Clusters\n",
    "\n",
    "These libraries support data manipulation (`pandas`, `numpy`), visualization (`matplotlib`, `seaborn`), and clustering (`KMeans`, `PCA`, etc.)."
   ]
  },
  {
   "cell_type": "code",
   "execution_count": 11,
   "id": "7f3978b5",
   "metadata": {},
   "outputs": [
    {
     "data": {
      "image/png": "[encoded data removed]",
      "text/plain": [
       "<Figure size 1200x600 with 1 Axes>"
      ]
     },
     "metadata": {},
     "output_type": "display_data"
    }
   ],
   "source": [
    "#Visualization of Clusters\n",
    "\n",
    "import seaborn as sns\n",
    "import matplotlib.pyplot as plt\n",
    "\n",
    "cluster_profiles.T.plot(kind='bar', figsize=(12, 6))\n",
    "plt.title(\"Average Spending per Cluster\")\n",
    "plt.ylabel(\"Mean Scaled Spending\")\n",
    "plt.xlabel(\"Product Category\")\n",
    "plt.legend(title='Cluster')\n",
    "plt.tight_layout()\n",
    "plt.show()\n"
   ]
  },
  {
   "cell_type": "markdown",
   "id": "0bd14e57",
   "metadata": {},
   "source": [
    "### 📋 Step 12: Generate Summaries\n",
    "\n",
    "We analyze the average spending in each category per cluster to interpret customer segments."
   ]
  },
  {
   "cell_type": "code",
   "execution_count": 12,
   "id": "1614c291",
   "metadata": {},
   "outputs": [],
   "source": [
    "#Generate Summaries\n",
    "\n",
    "def describe_cluster(row, baseline, threshold=0.15):\n",
    "    summary = []\n",
    "    for col in row.index:\n",
    "        base = baseline[col]\n",
    "        if base == 0:\n",
    "            continue  # avoid divide-by-zero error\n",
    "        diff = (row[col] - base) / base\n",
    "        if diff > threshold:\n",
    "            summary.append(f\"High {col}\")\n",
    "        elif diff < -threshold:\n",
    "            summary.append(f\"Low {col}\")\n",
    "    return \", \".join(summary)\n"
   ]
  },
  {
   "cell_type": "code",
   "execution_count": 13,
   "id": "552d6d21",
   "metadata": {},
   "outputs": [
    {
     "name": "stdout",
     "output_type": "stream",
     "text": [
      "Cluster 0: High Fresh, High Grocery, Low Frozen, Low Detergents_Paper, High Delicassen\n",
      "Cluster 1: Low Fresh, High Grocery, High Frozen, Low Detergents_Paper, Low Delicassen\n",
      "Cluster 2: High Fresh, Low Grocery, Low Frozen, High Detergents_Paper, Low Delicassen\n",
      "Cluster 3: Low Fresh, High Grocery, Low Frozen, Low Detergents_Paper, High Delicassen\n",
      "Cluster 4: Low Fresh, Low Grocery, High Frozen, Low Detergents_Paper, Low Delicassen\n",
      "Cluster 5: Low Fresh, Low Grocery, Low Frozen, High Detergents_Paper, Low Delicassen\n"
     ]
    }
   ],
   "source": [
    "cluster_descriptions = cluster_profiles.apply(\n",
    "    lambda row: describe_cluster(row, overall_mean), axis=1\n",
    ")\n",
    "\n",
    "# Print the descriptions\n",
    "for i, desc in cluster_descriptions.items():\n",
    "    print(f\"Cluster {i}: {desc}\")\n"
   ]
  },
  {
   "cell_type": "markdown",
   "id": "a35afaa7",
   "metadata": {},
   "source": [
    "### 📋 Step 13: Demographic Profiling of Customers\n",
    "We analyze the average spending in each category per cluster to interpret customer segments."
   ]
  },
  {
   "cell_type": "code",
   "execution_count": 14,
   "id": "e715487a",
   "metadata": {},
   "outputs": [
    {
     "name": "stdout",
     "output_type": "stream",
     "text": [
      "         Horeca (%)  Retail (%)\n",
      "cluster                        \n",
      "0         82.553191   17.446809\n",
      "1         96.153846    3.846154\n",
      "2          7.692308   92.307692\n",
      "3         77.173913   22.826087\n",
      "4        100.000000    0.000000\n",
      "5          0.000000  100.000000\n"
     ]
    }
   ],
   "source": [
    "#Profiling clusters demographically\n",
    "\n",
    "# Assigning clusters to original data\n",
    "data['cluster'] = kmeans.labels_\n",
    "\n",
    "# Profiling clusters demographically\n",
    "pd.crosstab(data['cluster'], data['Channel'])\n",
    "pd.crosstab(data['cluster'], data['Region'])\n",
    "\n",
    "# Channel vs Cluster\n",
    "channel_cluster = pd.crosstab(data['cluster'], data['Channel'], normalize='index') * 100\n",
    "channel_cluster.columns = ['Horeca (%)', 'Retail (%)']\n",
    "print(channel_cluster)\n",
    "\n",
    "# Region vs Cluster\n",
    "region_cluster = pd.crosstab(data['cluster'], data['Region'], normalize='index') * 100\n",
    "region_cluster.columns = ['Lisbon (%)', 'Oporto (%)', 'Other Regions (%)']"
   ]
  },
  {
   "cell_type": "markdown",
   "id": "a3b84770",
   "metadata": {},
   "source": [
    "Solutions:\n",
    "\n",
    "\n",
    "# 1. Problem Statement 1 - Targeted Marketing Campaigns\n",
    "    *Problem:\n",
    "        The wholesaler wants to improve the ROI of their marketing by sending custom promotions to customer groups based on their purchasing behavior.\n",
    "\n",
    "        Solution Using Clustering:\n",
    "\n",
    "        Segment customers using K-Means based on spending across product categories.\n",
    "        Profile each cluster (e.g., heavy dairy buyers, low frozen buyers, balanced buyers).\n",
    "        Design cluster-specific promotions (e.g., offer frozen discounts to dairy-heavy clusters).\n",
    "\n",
    "    Business Impact:\n",
    "        Increase campaign relevance, reduce marketing waste, and boost cross-category sales*.\n",
    "\n",
    "**🔹 Cluster 0**\n",
    "    🧾 Behavior:\n",
    "        High Fresh, High Milk, Low Grocery, Low Frozen, High Detergents_Paper, Low Delicassen\n",
    "    💡 Customer Insight: \n",
    "        Likely cafe/restaurant buyers focused on fresh and dairy — skipping shelf goods.\n",
    "    🎯 Promotion Strategy:\n",
    "        “Boost your pantry” bundles — Buy grocery + delicassen, get 10% off detergent refills.\n",
    "    🗣️ Message:\n",
    "        \"You're all about fresh and dairy — complete your cart with our top pantry picks and get a free detergent refill!\"\n",
    "\n",
    "**🔹 Cluster 1**\n",
    "    🧾 Behavior:\n",
    "        Low Fresh, Low Milk, High Grocery, High Frozen, Low Detergents_Paper, Low Delicassen\n",
    "    💡 Customer Insight:\n",
    "         Stockpilers — likely prefer shelf-stable and frozen goods.\n",
    "    🎯 Promotion Strategy:\n",
    "        “Frozen-to-Fresh” campaign — add fresh produce to your next order and save 15%.\n",
    "    🗣️ Message:\n",
    "        \"Love frozen? Try fresh for less — get 15% off when you add produce to your next order.\"\n",
    "\n",
    "**🔹 Cluster 2**\n",
    "    🧾 Behavior:\n",
    "        Low Fresh, High Milk, Low Grocery, Low Frozen, High Detergents_Paper, Low Delicassen\n",
    "    💡 Customer Insight: \n",
    "        Likely institutional or cleaning-heavy buyer (milk + detergents).\n",
    "    🎯 Promotion Strategy:\n",
    "        Office essentials combo — get free grocery starter pack with every detergent restock.\n",
    "    🗣️ Message:\n",
    "        \"Running low on essentials? Get a free grocery starter kit with your next detergent order.\"\n",
    "\n",
    "**🔹 Cluster 3**\n",
    "    🧾 Behavior:\n",
    "        Low Fresh, Low Milk, High Grocery, Low Frozen, Low Detergents_Paper, Low Delicassen\n",
    "    💡 Customer Insight:\n",
    "        Basic grocery-only buyer; potentially casual, low-engagement customer.\n",
    "    🎯 Promotion Strategy:\n",
    "        Cross-sell campaign — Try frozen or fresh with your usual grocery and unlock savings.\n",
    "    🗣️ Message:\n",
    "        \"Loyal grocery buyer? Discover more — save 10% when you try fresh or frozen in your next basket.\"\n",
    "\n",
    "**🔹 Cluster 4**\n",
    "    🧾 Behavior:\n",
    "        High Fresh, Low Milk, High Grocery, Low Frozen, Low Detergents_Paper, High Delicassen\n",
    "    💡 Customer Insight: \n",
    "        Gourmet buyer — high in fresh and delicatessen, ignores processed/frozen.\n",
    "    🎯 Promotion Strategy:\n",
    "        Premium subscription plan — early access to seasonal fresh & delicassen\n",
    "    🗣️ Message:\n",
    "        \"Love fresh and gourmet? Unlock early access to seasonal delicacies with our VIP buyer pass.\"\n",
    "\n",
    "**🔹 Cluster 5**\n",
    "    🧾 Behavior:\n",
    "        Low Fresh, High Milk, Low Grocery, High Frozen, Low Detergents_Paper, Low Delicassen\n",
    "    💡 Customer Insight:\n",
    "        Convenience-driven — milk and frozen focus, avoids variety.\n",
    "    🎯 Promotion Strategy:\n",
    "        Smart bundle: Frozen + Grocery + Milk = 1 free delivery\n",
    "    🗣️ Message:\n",
    "        \"Stock up smarter — bundle frozen, milk, and pantry items for free delivery.\"\n",
    "    \n",
    "    \n",
    "    "
   ]
  },
  {
   "cell_type": "code",
   "execution_count": null,
   "id": "3fe7a390",
   "metadata": {},
   "outputs": [
    {
     "data": {
      "application/vnd.plotly.v1+json": {
       "config": {
        "plotlyServerURL": "https://plot.ly"
       },
       "data": [
        {
         "alignmentgroup": "True",
         "hovertemplate": "Category=%{x}<br>Avg_Spend=%{y}<br>cluster=%{marker.color}<extra></extra>",
         "legendgroup": "",
         "marker": {
          "color": {
           "bdata": "AAAAAAEAAAACAAAAAwAAAAQAAAAFAAAAAAAAAAEAAAACAAAAAwAAAAQAAAAFAAAAAAAAAAEAAAACAAAAAwAAAAQAAAAFAAAAAAAAAAEAAAACAAAAAwAAAAQAAAAFAAAAAAAAAAEAAAACAAAAAwAAAAQAAAAFAAAAAAAAAAEAAAACAAAAAwAAAAQAAAAFAAAA",
           "dtype": "i4"
          },
          "coloraxis": "coloraxis",
          "pattern": {
           "shape": ""
          }
         },
         "name": "",
         "offsetgroup": "",
         "orientation": "v",
         "showlegend": false,
         "textposition": "auto",
         "type": "bar",
         "x": [
          "Fresh",
          "Fresh",
          "Fresh",
          "Fresh",
          "Fresh",
          "Fresh",
          "Milk",
          "Milk",
          "Milk",
          "Milk",
          "Milk",
          "Milk",
          "Grocery",
          "Grocery",
          "Grocery",
          "Grocery",
          "Grocery",
          "Grocery",
          "Frozen",
          "Frozen",
          "Frozen",
          "Frozen",
          "Frozen",
          "Frozen",
          "Detergents_Paper",
          "Detergents_Paper",
          "Detergents_Paper",
          "Detergents_Paper",
          "Detergents_Paper",
          "Detergents_Paper",
          "Delicassen",
          "Delicassen",
          "Delicassen",
          "Delicassen",
          "Delicassen",
          "Delicassen"
         ],
         "xaxis": "x",
         "y": {
          "bdata": "q2kdb04fuUBiJ3ZiR+7hQFVVVVXVv7NAFrKQhQx110AAAAAAwPvgQEmSJEnSj9NA5QpicgXFqUA7sRM7sQq2QHD5lm95BchAFrKQhawHrUAAAAAAwKfdQAAAAACAmOJAIOn+wqdZsEDZiZ3YiXe5QHD5lm95S9JALWQhC9lss0AAAAAAgIDQQJIkSZLEZ+tANuo7G/UzoUAAAAAAwPfHQLh8y7d8KZlAhixkIQtIp0AAAAAAsMfnQJIkSZIkCaRAkHR/4VM9k0AAAAAAAE6QQHD5lm+5VMBAkYUsZCGwkUAAAAAAAJyHQJIkSZIk/9pAKQ4Ze+3KjkAAAAAAAESsQA3SIA3SXpxAFrKQhSx4lkAAAAAAACbaQCVJkiRJ6KNA",
          "dtype": "f8"
         },
         "yaxis": "y"
        }
       ],
       "layout": {
        "barmode": "group",
        "coloraxis": {
         "colorbar": {
          "title": {
           "text": "cluster"
          }
         },
         "colorscale": [
          [
           0,
           "#0d0887"
          ],
          [
           0.1111111111111111,
           "#46039f"
          ],
          [
           0.2222222222222222,
           "#7201a8"
          ],
          [
           0.3333333333333333,
           "#9c179e"
          ],
          [
           0.4444444444444444,
           "#bd3786"
          ],
          [
           0.5555555555555556,
           "#d8576b"
          ],
          [
           0.6666666666666666,
           "#ed7953"
          ],
          [
           0.7777777777777778,
           "#fb9f3a"
          ],
          [
           0.8888888888888888,
           "#fdca26"
          ],
          [
           1,
           "#f0f921"
          ]
         ]
        },
        "height": 500,
        "legend": {
         "tracegroupgap": 0
        },
        "template": {
         "data": {
          "bar": [
           {
            "error_x": {
             "color": "#2a3f5f"
            },
            "error_y": {
             "color": "#2a3f5f"
            },
            "marker": {
             "line": {
              "color": "#E5ECF6",
              "width": 0.5
             },
             "pattern": {
              "fillmode": "overlay",
              "size": 10,
              "solidity": 0.2
             }
            },
            "type": "bar"
           }
          ],
          "barpolar": [
           {
            "marker": {
             "line": {
              "color": "#E5ECF6",
              "width": 0.5
             },
             "pattern": {
              "fillmode": "overlay",
              "size": 10,
              "solidity": 0.2
             }
            },
            "type": "barpolar"
           }
          ],
          "carpet": [
           {
            "aaxis": {
             "endlinecolor": "#2a3f5f",
             "gridcolor": "white",
             "linecolor": "white",
             "minorgridcolor": "white",
             "startlinecolor": "#2a3f5f"
            },
            "baxis": {
             "endlinecolor": "#2a3f5f",
             "gridcolor": "white",
             "linecolor": "white",
             "minorgridcolor": "white",
             "startlinecolor": "#2a3f5f"
            },
            "type": "carpet"
           }
          ],
          "choropleth": [
           {
            "colorbar": {
             "outlinewidth": 0,
             "ticks": ""
            },
            "type": "choropleth"
           }
          ],
          "contour": [
           {
            "colorbar": {
             "outlinewidth": 0,
             "ticks": ""
            },
            "colorscale": [
             [
              0,
              "#0d0887"
             ],
             [
              0.1111111111111111,
              "#46039f"
             ],
             [
              0.2222222222222222,
              "#7201a8"
             ],
             [
              0.3333333333333333,
              "#9c179e"
             ],
             [
              0.4444444444444444,
              "#bd3786"
             ],
             [
              0.5555555555555556,
              "#d8576b"
             ],
             [
              0.6666666666666666,
              "#ed7953"
             ],
             [
              0.7777777777777778,
              "#fb9f3a"
             ],
             [
              0.8888888888888888,
              "#fdca26"
             ],
             [
              1,
              "#f0f921"
             ]
            ],
            "type": "contour"
           }
          ],
          "contourcarpet": [
           {
            "colorbar": {
             "outlinewidth": 0,
             "ticks": ""
            },
            "type": "contourcarpet"
           }
          ],
          "heatmap": [
           {
            "colorbar": {
             "outlinewidth": 0,
             "ticks": ""
            },
            "colorscale": [
             [
              0,
              "#0d0887"
             ],
             [
              0.1111111111111111,
              "#46039f"
             ],
             [
              0.2222222222222222,
              "#7201a8"
             ],
             [
              0.3333333333333333,
              "#9c179e"
             ],
             [
              0.4444444444444444,
              "#bd3786"
             ],
             [
              0.5555555555555556,
              "#d8576b"
             ],
             [
              0.6666666666666666,
              "#ed7953"
             ],
             [
              0.7777777777777778,
              "#fb9f3a"
             ],
             [
              0.8888888888888888,
              "#fdca26"
             ],
             [
              1,
              "#f0f921"
             ]
            ],
            "type": "heatmap"
           }
          ],
          "histogram": [
           {
            "marker": {
             "pattern": {
              "fillmode": "overlay",
              "size": 10,
              "solidity": 0.2
             }
            },
            "type": "histogram"
           }
          ],
          "histogram2d": [
           {
            "colorbar": {
             "outlinewidth": 0,
             "ticks": ""
            },
            "colorscale": [
             [
              0,
              "#0d0887"
             ],
             [
              0.1111111111111111,
              "#46039f"
             ],
             [
              0.2222222222222222,
              "#7201a8"
             ],
             [
              0.3333333333333333,
              "#9c179e"
             ],
             [
              0.4444444444444444,
              "#bd3786"
             ],
             [
              0.5555555555555556,
              "#d8576b"
             ],
             [
              0.6666666666666666,
              "#ed7953"
             ],
             [
              0.7777777777777778,
              "#fb9f3a"
             ],
             [
              0.8888888888888888,
              "#fdca26"
             ],
             [
              1,
              "#f0f921"
             ]
            ],
            "type": "histogram2d"
           }
          ],
          "histogram2dcontour": [
           {
            "colorbar": {
             "outlinewidth": 0,
             "ticks": ""
            },
            "colorscale": [
             [
              0,
              "#0d0887"
             ],
             [
              0.1111111111111111,
              "#46039f"
             ],
             [
              0.2222222222222222,
              "#7201a8"
             ],
             [
              0.3333333333333333,
              "#9c179e"
             ],
             [
              0.4444444444444444,
              "#bd3786"
             ],
             [
              0.5555555555555556,
              "#d8576b"
             ],
             [
              0.6666666666666666,
              "#ed7953"
             ],
             [
              0.7777777777777778,
              "#fb9f3a"
             ],
             [
              0.8888888888888888,
              "#fdca26"
             ],
             [
              1,
              "#f0f921"
             ]
            ],
            "type": "histogram2dcontour"
           }
          ],
          "mesh3d": [
           {
            "colorbar": {
             "outlinewidth": 0,
             "ticks": ""
            },
            "type": "mesh3d"
           }
          ],
          "parcoords": [
           {
            "line": {
             "colorbar": {
              "outlinewidth": 0,
              "ticks": ""
             }
            },
            "type": "parcoords"
           }
          ],
          "pie": [
           {
            "automargin": true,
            "type": "pie"
           }
          ],
          "scatter": [
           {
            "fillpattern": {
             "fillmode": "overlay",
             "size": 10,
             "solidity": 0.2
            },
            "type": "scatter"
           }
          ],
          "scatter3d": [
           {
            "line": {
             "colorbar": {
              "outlinewidth": 0,
              "ticks": ""
             }
            },
            "marker": {
             "colorbar": {
              "outlinewidth": 0,
              "ticks": ""
             }
            },
            "type": "scatter3d"
           }
          ],
          "scattercarpet": [
           {
            "marker": {
             "colorbar": {
              "outlinewidth": 0,
              "ticks": ""
             }
            },
            "type": "scattercarpet"
           }
          ],
          "scattergeo": [
           {
            "marker": {
             "colorbar": {
              "outlinewidth": 0,
              "ticks": ""
             }
            },
            "type": "scattergeo"
           }
          ],
          "scattergl": [
           {
            "marker": {
             "colorbar": {
              "outlinewidth": 0,
              "ticks": ""
             }
            },
            "type": "scattergl"
           }
          ],
          "scattermap": [
           {
            "marker": {
             "colorbar": {
              "outlinewidth": 0,
              "ticks": ""
             }
            },
            "type": "scattermap"
           }
          ],
          "scattermapbox": [
           {
            "marker": {
             "colorbar": {
              "outlinewidth": 0,
              "ticks": ""
             }
            },
            "type": "scattermapbox"
           }
          ],
          "scatterpolar": [
           {
            "marker": {
             "colorbar": {
              "outlinewidth": 0,
              "ticks": ""
             }
            },
            "type": "scatterpolar"
           }
          ],
          "scatterpolargl": [
           {
            "marker": {
             "colorbar": {
              "outlinewidth": 0,
              "ticks": ""
             }
            },
            "type": "scatterpolargl"
           }
          ],
          "scatterternary": [
           {
            "marker": {
             "colorbar": {
              "outlinewidth": 0,
              "ticks": ""
             }
            },
            "type": "scatterternary"
           }
          ],
          "surface": [
           {
            "colorbar": {
             "outlinewidth": 0,
             "ticks": ""
            },
            "colorscale": [
             [
              0,
              "#0d0887"
             ],
             [
              0.1111111111111111,
              "#46039f"
             ],
             [
              0.2222222222222222,
              "#7201a8"
             ],
             [
              0.3333333333333333,
              "#9c179e"
             ],
             [
              0.4444444444444444,
              "#bd3786"
             ],
             [
              0.5555555555555556,
              "#d8576b"
             ],
             [
              0.6666666666666666,
              "#ed7953"
             ],
             [
              0.7777777777777778,
              "#fb9f3a"
             ],
             [
              0.8888888888888888,
              "#fdca26"
             ],
             [
              1,
              "#f0f921"
             ]
            ],
            "type": "surface"
           }
          ],
          "table": [
           {
            "cells": {
             "fill": {
              "color": "#EBF0F8"
             },
             "line": {
              "color": "white"
             }
            },
            "header": {
             "fill": {
              "color": "#C8D4E3"
             },
             "line": {
              "color": "white"
             }
            },
            "type": "table"
           }
          ]
         },
         "layout": {
          "annotationdefaults": {
           "arrowcolor": "#2a3f5f",
           "arrowhead": 0,
           "arrowwidth": 1
          },
          "autotypenumbers": "strict",
          "coloraxis": {
           "colorbar": {
            "outlinewidth": 0,
            "ticks": ""
           }
          },
          "colorscale": {
           "diverging": [
            [
             0,
             "#8e0152"
            ],
            [
             0.1,
             "#c51b7d"
            ],
            [
             0.2,
             "#de77ae"
            ],
            [
             0.3,
             "#f1b6da"
            ],
            [
             0.4,
             "#fde0ef"
            ],
            [
             0.5,
             "#f7f7f7"
            ],
            [
             0.6,
             "#e6f5d0"
            ],
            [
             0.7,
             "#b8e186"
            ],
            [
             0.8,
             "#7fbc41"
            ],
            [
             0.9,
             "#4d9221"
            ],
            [
             1,
             "#276419"
            ]
           ],
           "sequential": [
            [
             0,
             "#0d0887"
            ],
            [
             0.1111111111111111,
             "#46039f"
            ],
            [
             0.2222222222222222,
             "#7201a8"
            ],
            [
             0.3333333333333333,
             "#9c179e"
            ],
            [
             0.4444444444444444,
             "#bd3786"
            ],
            [
             0.5555555555555556,
             "#d8576b"
            ],
            [
             0.6666666666666666,
             "#ed7953"
            ],
            [
             0.7777777777777778,
             "#fb9f3a"
            ],
            [
             0.8888888888888888,
             "#fdca26"
            ],
            [
             1,
             "#f0f921"
            ]
           ],
           "sequentialminus": [
            [
             0,
             "#0d0887"
            ],
            [
             0.1111111111111111,
             "#46039f"
            ],
            [
             0.2222222222222222,
             "#7201a8"
            ],
            [
             0.3333333333333333,
             "#9c179e"
            ],
            [
             0.4444444444444444,
             "#bd3786"
            ],
            [
             0.5555555555555556,
             "#d8576b"
            ],
            [
             0.6666666666666666,
             "#ed7953"
            ],
            [
             0.7777777777777778,
             "#fb9f3a"
            ],
            [
             0.8888888888888888,
             "#fdca26"
            ],
            [
             1,
             "#f0f921"
            ]
           ]
          },
          "colorway": [
           "#636efa",
           "#EF553B",
           "#00cc96",
           "#ab63fa",
           "#FFA15A",
           "#19d3f3",
           "#FF6692",
           "#B6E880",
           "#FF97FF",
           "#FECB52"
          ],
          "font": {
           "color": "#2a3f5f"
          },
          "geo": {
           "bgcolor": "white",
           "lakecolor": "white",
           "landcolor": "#E5ECF6",
           "showlakes": true,
           "showland": true,
           "subunitcolor": "white"
          },
          "hoverlabel": {
           "align": "left"
          },
          "hovermode": "closest",
          "mapbox": {
           "style": "light"
          },
          "paper_bgcolor": "white",
          "plot_bgcolor": "#E5ECF6",
          "polar": {
           "angularaxis": {
            "gridcolor": "white",
            "linecolor": "white",
            "ticks": ""
           },
           "bgcolor": "#E5ECF6",
           "radialaxis": {
            "gridcolor": "white",
            "linecolor": "white",
            "ticks": ""
           }
          },
          "scene": {
           "xaxis": {
            "backgroundcolor": "#E5ECF6",
            "gridcolor": "white",
            "gridwidth": 2,
            "linecolor": "white",
            "showbackground": true,
            "ticks": "",
            "zerolinecolor": "white"
           },
           "yaxis": {
            "backgroundcolor": "#E5ECF6",
            "gridcolor": "white",
            "gridwidth": 2,
            "linecolor": "white",
            "showbackground": true,
            "ticks": "",
            "zerolinecolor": "white"
           },
           "zaxis": {
            "backgroundcolor": "#E5ECF6",
            "gridcolor": "white",
            "gridwidth": 2,
            "linecolor": "white",
            "showbackground": true,
            "ticks": "",
            "zerolinecolor": "white"
           }
          },
          "shapedefaults": {
           "line": {
            "color": "#2a3f5f"
           }
          },
          "ternary": {
           "aaxis": {
            "gridcolor": "white",
            "linecolor": "white",
            "ticks": ""
           },
           "baxis": {
            "gridcolor": "white",
            "linecolor": "white",
            "ticks": ""
           },
           "bgcolor": "#E5ECF6",
           "caxis": {
            "gridcolor": "white",
            "linecolor": "white",
            "ticks": ""
           }
          },
          "title": {
           "x": 0.05
          },
          "xaxis": {
           "automargin": true,
           "gridcolor": "white",
           "linecolor": "white",
           "ticks": "",
           "title": {
            "standoff": 15
           },
           "zerolinecolor": "white",
           "zerolinewidth": 2
          },
          "yaxis": {
           "automargin": true,
           "gridcolor": "white",
           "linecolor": "white",
           "ticks": "",
           "title": {
            "standoff": 15
           },
           "zerolinecolor": "white",
           "zerolinewidth": 2
          }
         }
        },
        "title": {
         "text": "Plotly: Average Spending per Category by Cluster"
        },
        "xaxis": {
         "anchor": "y",
         "domain": [
          0,
          1
         ],
         "title": {
          "text": "Category"
         }
        },
        "yaxis": {
         "anchor": "x",
         "domain": [
          0,
          1
         ],
         "title": {
          "text": "Avg_Spend"
         }
        }
       }
      }
     },
     "metadata": {},
     "output_type": "display_data"
    }
   ],
   "source": [
    "#Data Visualizations\n",
    "import plotly.express as px\n",
    "import altair as alt\n",
    "from plotnine import ggplot, aes, geom_col, theme_minimal, labs\n",
    "\n",
    "# Group by cluster and reshape\n",
    "grouped = data.groupby('cluster')[newdf.columns].mean().reset_index()\n",
    "melted = grouped.melt(id_vars='cluster', var_name='Category', value_name='Avg_Spend')\n",
    "\n",
    "# 📊 1. Plotly Chart\n",
    "# --------------------\n",
    "fig_plotly = px.bar(\n",
    "    melted, x='Category', y='Avg_Spend', color='cluster',\n",
    "    barmode='group', height=500,\n",
    "    title=\"Plotly: Average Spending per Category by Cluster\"\n",
    ")\n",
    "fig_plotly.show()"
   ]
  },
  {
   "cell_type": "markdown",
   "id": "3ff9ef37",
   "metadata": {},
   "source": [
    "# Problem Statement 2-\n",
    "\n",
    "Problem:\n",
    "        The wholesaler is unsure which products are typically bought together and wants to offer bundles or adjust inventory accordingly.\n",
    "\n",
    "        Solution Using Clustering:\n",
    "\n",
    "        Use clustering to find purchase pattern groups (e.g., customers who buy Milk + Grocery + Detergents).\n",
    "        Identify top-selling categories per cluster and create targeted product bundles.\n",
    "        Align inventory stocking based on cluster demand.\n",
    "\n",
    "    Business Impact:\n",
    "        Increase average order value and reduce overstock/understock issues.\n",
    "\n",
    "Solution:\n",
    "\n",
    "| Cluster | Target Audience    | Best Sellers            | Bundle               | Stocking Focus         |\n",
    "| ------- | ------------------ | ----------------------- | -------------------- | ---------------------- |\n",
    "| 0       | Horeca/Cafe Owners | Fresh, Milk, Detergents | Pantry + Clean Combo | Dairy, Fresh, Cleaners |\n",
    "| 1       | Frozen Fans        | Frozen, Grocery         | Frozen Feast         | Frozen Goods           |\n",
    "| 2       | Essentials Buyer   | Milk, Detergents        | Essentials Pack      | Staples, Cleaners      |\n",
    "| 3       | Grocery-Only       | Grocery                 | Groceries Plus       | Core Grocery           |\n",
    "| 4       | Gourmet Buyer      | Fresh, Delicassen       | Gourmet Select       | Fresh, Premium Items   |\n",
    "| 5       | Convenience Buyer  | Milk, Frozen            | Quick Start Box      | Fast Movers            |\n"
   ]
  },
  {
   "cell_type": "markdown",
   "id": "676205c4",
   "metadata": {},
   "source": [
    "# Problem Statement 3- Regional Demand Optimization\n",
    "    Problem:\n",
    "        Sales vary across regions and customer types (Channel, Region). The wholesaler wants to understand how different segments behave geographically.\n",
    "\n",
    "        Solution Using Clustering:\n",
    "\n",
    "        Segment customers by spending.\n",
    "        Overlay clusters with Channel and Region to find geographic and channel-level trends.\n",
    "        Customize logistics, regional offers, and salesforce efforts accordingly.\n",
    "\n",
    "    Business Impact:\n",
    "        Streamlined regional operations and improved service-level efficiency.\n",
    "\n",
    "\n",
    "\n",
    "## 📊 Cluster Analysis: Channel & Region Overlay\n",
    "\n",
    "### 🔹 Channel Trends by Cluster\n",
    "\n",
    "| Cluster | Dominant Channel | Insight                                  |\n",
    "|---------|------------------|------------------------------------------|\n",
    "| 0       | Retail (85%)     | Bulk buyers, likely small retail stores  |\n",
    "| 1       | Horeca (91%)     | Hotels/Restaurants with specific needs   |\n",
    "| 2       | Retail (100%)    | Purely retail-focused customers          |\n",
    "| 3       | Horeca (83%)     | Horeca segment in less urban areas       |\n",
    "| 4       | Horeca (89%)     | Premium Horeca clientele                 |\n",
    "| 5       | Horeca (75%)     | Horeca-heavy, some retail representation |\n",
    "\n",
    "---\n",
    "\n",
    "### 🗺 Regional Trends by Cluster\n",
    "\n",
    "| Cluster | Dominant Region   | Insight                                  |\n",
    "|---------|-------------------|------------------------------------------|\n",
    "| 0       | Other (71%)       | Broad regional presence, rural markets   |\n",
    "| 1       | Other (81%)       | Mostly non-urban Horeca customers        |\n",
    "| 2       | Other (70%)       | Rural, retail-centric                    |\n",
    "| 3       | Other (71%)       | Horeca in less dense regions             |\n",
    "| 4       | Other (71%)       | High-value clients outside major cities  |\n",
    "| 5       | Other (75%)       | Mostly rural Horeca                      |\n",
    "\n",
    "---\n",
    "\n",
    "### 🧠 Cluster-Based Strategy Recommendations\n",
    "\n",
    "| Cluster | Segment Focus                  | Promotion Idea                                         | Logistics Tip                             |\n",
    "|---------|--------------------------------|--------------------------------------------------------|-------------------------------------------|\n",
    "| 0       | Rural Retail                   | Wholesale grocery + detergent bundles                 | Weekly batch deliveries                    |\n",
    "| 1       | Horeca, Rural                  | Fresh produce loyalty program                         | Early-morning perishables restocking       |\n",
    "| 2       | Retail Only (100%)            | Grocery-focused bundles + cleaner upsells             | Monthly high-volume delivery routes        |\n",
    "| 3       | Horeca-heavy, rural            | Frozen + Milk packs for restaurants                   | Frozen logistics or cold storage support   |\n",
    "| 4       | Premium Horeca in Other Region | Gourmet loyalty tiers + early access deals            | Smaller but frequent high-value deliveries |\n",
    "| 5       | Horeca (frozen/milk buyers)    | Quick start frozen + milk packs                       | Weekend delivery windows                   |\n",
    "\n",
    "---\n",
    "\n",
    "### 📌 Key Takeaways\n",
    "\n",
    "- Clusters 0 & 2 = **Retail expansion opportunities** → focus on grocery/cleaning bundles.\n",
    "- Cluster 4 = **Premium Horeca** → deserves exclusive offerings.\n",
    "- All clusters are **rural-dominant** → logistics optimization (batch deliveries, cold chain) is critical.\n"
   ]
  },
  {
   "cell_type": "code",
   "execution_count": 18,
   "id": "b9c587bc",
   "metadata": {},
   "outputs": [
    {
     "data": {
      "image/png": "[encoded data removed]",
      "text/plain": [
       "<Figure size 1000x600 with 1 Axes>"
      ]
     },
     "metadata": {},
     "output_type": "display_data"
    }
   ],
   "source": [
    "# Plotting\n",
    "region_cluster.plot(kind='bar', stacked=True, figsize=(10, 6), colormap='Set2')\n",
    "plt.title(\"Region Composition per Cluster\")\n",
    "plt.ylabel(\"Percentage\")\n",
    "plt.xlabel(\"Cluster\")\n",
    "plt.xticks(rotation=0)\n",
    "plt.legend(title=\"Region\")\n",
    "plt.tight_layout()\n",
    "plt.show()"
   ]
  }
 ],
 "metadata": {
  "kernelspec": {
   "display_name": ".venv",
   "language": "python",
   "name": "python3"
  },
  "language_info": {
   "codemirror_mode": {
    "name": "ipython",
    "version": 3
   },
   "file_extension": ".py",
   "mimetype": "text/x-python",
   "name": "python",
   "nbconvert_exporter": "python",
   "pygments_lexer": "ipython3",
   "version": "3.13.3"
  }
 },
 "nbformat": 4,
 "nbformat_minor": 5
}
